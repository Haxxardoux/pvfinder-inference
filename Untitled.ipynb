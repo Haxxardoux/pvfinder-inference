{
 "cells": [
  {
   "cell_type": "code",
   "execution_count": 1,
   "metadata": {},
   "outputs": [],
   "source": [
    "import jax\n",
    "import uproot"
   ]
  },
  {
   "cell_type": "code",
   "execution_count": 73,
   "metadata": {},
   "outputs": [],
   "source": [
    "data_reference = uproot.open('/share/lazy/will/data/trks_June30_2020_80k_14.root')"
   ]
  },
  {
   "cell_type": "code",
   "execution_count": 77,
   "metadata": {},
   "outputs": [
    {
     "data": {
      "text/plain": [
       "['pv_cat',\n",
       " 'pv_loc',\n",
       " 'pv_loc_x',\n",
       " 'pv_loc_y',\n",
       " 'pv_ntrks',\n",
       " 'sv_cat',\n",
       " 'sv_loc',\n",
       " 'sv_loc_x',\n",
       " 'sv_loc_y',\n",
       " 'sv_ntrks',\n",
       " 'recon_x',\n",
       " 'recon_y',\n",
       " 'recon_z',\n",
       " 'recon_tx',\n",
       " 'recon_ty',\n",
       " 'recon_chi2',\n",
       " 'recon_pocax',\n",
       " 'recon_pocay',\n",
       " 'recon_pocaz',\n",
       " 'recon_sigmapocaxy',\n",
       " 'prt_hits',\n",
       " 'pvr_x',\n",
       " 'pvr_y',\n",
       " 'pvr_z',\n",
       " 'prt_pvr',\n",
       " 'svr_x',\n",
       " 'svr_y',\n",
       " 'svr_z',\n",
       " 'svr_pvr',\n",
       " 'prt_px',\n",
       " 'prt_py',\n",
       " 'prt_pz',\n",
       " 'prt_x',\n",
       " 'prt_y',\n",
       " 'prt_z',\n",
       " 'ntrks_prompt']"
      ]
     },
     "execution_count": 77,
     "metadata": {},
     "output_type": "execute_result"
    }
   ],
   "source": [
    "data_reference['trks;65'].keys()"
   ]
  },
  {
   "cell_type": "code",
   "execution_count": 67,
   "metadata": {},
   "outputs": [],
   "source": [
    "raw_events = data_reference['data;1']\n",
    "# syntax for looping over 80k events - useful after it is determiend how much memory/compute each KDE generations are required\n",
    "for event in raw_events.iterate():\n",
    "    break"
   ]
  },
  {
   "cell_type": "code",
   "execution_count": null,
   "metadata": {},
   "outputs": [],
   "source": [
    "def kernel(x, y, z):"
   ]
  },
  {
   "cell_type": "code",
   "execution_count": 47,
   "metadata": {},
   "outputs": [],
   "source": [
    "# grid search along x and y axis - returns coords just for now\n",
    "def random_calculation(a, b):\n",
    "    return jax.numpy.array([a, b, a**2 - 4*b])\n",
    "\n",
    "f0 = jax.vmap(get_coord, (None, 0))\n",
    "f1 = jax.vmap(f0, (0, None)) "
   ]
  },
  {
   "cell_type": "code",
   "execution_count": 57,
   "metadata": {},
   "outputs": [],
   "source": [
    "coords = jax.numpy.arange(-0.4, 0.41, 0.1)"
   ]
  },
  {
   "cell_type": "code",
   "execution_count": 63,
   "metadata": {},
   "outputs": [],
   "source": [
    "result = f1(coords, coords)"
   ]
  },
  {
   "cell_type": "code",
   "execution_count": 62,
   "metadata": {},
   "outputs": [
    {
     "data": {
      "text/plain": [
       "(0, 0)"
      ]
     },
     "execution_count": 62,
     "metadata": {},
     "output_type": "execute_result"
    }
   ],
   "source": [
    "# argmax the grid search to find coordinates of largest value of objective -\n",
    "# we could just \n",
    "jax.numpy.unravel_index(result[:, :, -1].argmax(), result[:, :, -1].shape)"
   ]
  }
 ],
 "metadata": {
  "kernelspec": {
   "display_name": "Python [conda env:.conda-will-gpu] *",
   "language": "python",
   "name": "conda-env-.conda-will-gpu-py"
  },
  "language_info": {
   "codemirror_mode": {
    "name": "ipython",
    "version": 3
   },
   "file_extension": ".py",
   "mimetype": "text/x-python",
   "name": "python",
   "nbconvert_exporter": "python",
   "pygments_lexer": "ipython3",
   "version": "3.8.8"
  }
 },
 "nbformat": 4,
 "nbformat_minor": 4
}
